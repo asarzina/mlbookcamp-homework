{
  "nbformat": 4,
  "nbformat_minor": 0,
  "metadata": {
    "colab": {
      "name": "Mlbookcamp Homework 2.ipynb",
      "provenance": [],
      "collapsed_sections": []
    },
    "kernelspec": {
      "name": "python3",
      "display_name": "Python 3"
    },
    "language_info": {
      "name": "python"
    }
  },
  "cells": [
    {
      "cell_type": "code",
      "metadata": {
        "id": "oaO0RK3tSeBP"
      },
      "source": [
        "import numpy as np\n",
        "import pandas as pd\n"
      ],
      "execution_count": 539,
      "outputs": []
    },
    {
      "cell_type": "code",
      "metadata": {
        "colab": {
          "base_uri": "https://localhost:8080/",
          "height": 35
        },
        "id": "--q_W4O-SuYT",
        "outputId": "dc63c1ee-0bfe-43d9-d4cb-4f73d5a986f5"
      },
      "source": [
        "np.__version__"
      ],
      "execution_count": 540,
      "outputs": [
        {
          "output_type": "execute_result",
          "data": {
            "application/vnd.google.colaboratory.intrinsic+json": {
              "type": "string"
            },
            "text/plain": [
              "'1.19.5'"
            ]
          },
          "metadata": {},
          "execution_count": 540
        }
      ]
    },
    {
      "cell_type": "code",
      "metadata": {
        "colab": {
          "base_uri": "https://localhost:8080/",
          "height": 35
        },
        "id": "temJ-umGSxVq",
        "outputId": "2010097f-9425-411f-cf21-17b08070db27"
      },
      "source": [
        "pd.__version__"
      ],
      "execution_count": 541,
      "outputs": [
        {
          "output_type": "execute_result",
          "data": {
            "application/vnd.google.colaboratory.intrinsic+json": {
              "type": "string"
            },
            "text/plain": [
              "'1.1.5'"
            ]
          },
          "metadata": {},
          "execution_count": 541
        }
      ]
    },
    {
      "cell_type": "code",
      "metadata": {
        "colab": {
          "base_uri": "https://localhost:8080/"
        },
        "id": "Cou0wLBZS2WY",
        "outputId": "28d77b07-7a14-4285-9c40-353260cefbf1"
      },
      "source": [
        "!wget https://raw.githubusercontent.com/asarzina/mlbookcamp-homework/main/data/AB_NYC_2019.csv"
      ],
      "execution_count": 542,
      "outputs": [
        {
          "output_type": "stream",
          "name": "stdout",
          "text": [
            "--2021-09-19 15:47:37--  https://raw.githubusercontent.com/asarzina/mlbookcamp-homework/main/data/AB_NYC_2019.csv\n",
            "Resolving raw.githubusercontent.com (raw.githubusercontent.com)... 185.199.108.133, 185.199.109.133, 185.199.110.133, ...\n",
            "Connecting to raw.githubusercontent.com (raw.githubusercontent.com)|185.199.108.133|:443... connected.\n",
            "HTTP request sent, awaiting response... 200 OK\n",
            "Length: 7077973 (6.8M) [text/plain]\n",
            "Saving to: ‘AB_NYC_2019.csv.12’\n",
            "\n",
            "\rAB_NYC_2019.csv.12    0%[                    ]       0  --.-KB/s               \rAB_NYC_2019.csv.12  100%[===================>]   6.75M  --.-KB/s    in 0.07s   \n",
            "\n",
            "2021-09-19 15:47:37 (90.3 MB/s) - ‘AB_NYC_2019.csv.12’ saved [7077973/7077973]\n",
            "\n"
          ]
        }
      ]
    },
    {
      "cell_type": "code",
      "metadata": {
        "colab": {
          "base_uri": "https://localhost:8080/",
          "height": 405
        },
        "id": "-I13HRn5S5u2",
        "outputId": "0acec7f6-6c74-451d-de21-543ac297e8ea"
      },
      "source": [
        "df = pd.read_csv('AB_NYC_2019.csv')\n",
        "df.head()"
      ],
      "execution_count": 543,
      "outputs": [
        {
          "output_type": "execute_result",
          "data": {
            "text/html": [
              "<div>\n",
              "<style scoped>\n",
              "    .dataframe tbody tr th:only-of-type {\n",
              "        vertical-align: middle;\n",
              "    }\n",
              "\n",
              "    .dataframe tbody tr th {\n",
              "        vertical-align: top;\n",
              "    }\n",
              "\n",
              "    .dataframe thead th {\n",
              "        text-align: right;\n",
              "    }\n",
              "</style>\n",
              "<table border=\"1\" class=\"dataframe\">\n",
              "  <thead>\n",
              "    <tr style=\"text-align: right;\">\n",
              "      <th></th>\n",
              "      <th>id</th>\n",
              "      <th>name</th>\n",
              "      <th>host_id</th>\n",
              "      <th>host_name</th>\n",
              "      <th>neighbourhood_group</th>\n",
              "      <th>neighbourhood</th>\n",
              "      <th>latitude</th>\n",
              "      <th>longitude</th>\n",
              "      <th>room_type</th>\n",
              "      <th>price</th>\n",
              "      <th>minimum_nights</th>\n",
              "      <th>number_of_reviews</th>\n",
              "      <th>last_review</th>\n",
              "      <th>reviews_per_month</th>\n",
              "      <th>calculated_host_listings_count</th>\n",
              "      <th>availability_365</th>\n",
              "    </tr>\n",
              "  </thead>\n",
              "  <tbody>\n",
              "    <tr>\n",
              "      <th>0</th>\n",
              "      <td>2539</td>\n",
              "      <td>Clean &amp; quiet apt home by the park</td>\n",
              "      <td>2787</td>\n",
              "      <td>John</td>\n",
              "      <td>Brooklyn</td>\n",
              "      <td>Kensington</td>\n",
              "      <td>40.64749</td>\n",
              "      <td>-73.97237</td>\n",
              "      <td>Private room</td>\n",
              "      <td>149</td>\n",
              "      <td>1</td>\n",
              "      <td>9</td>\n",
              "      <td>2018-10-19</td>\n",
              "      <td>0.21</td>\n",
              "      <td>6</td>\n",
              "      <td>365</td>\n",
              "    </tr>\n",
              "    <tr>\n",
              "      <th>1</th>\n",
              "      <td>2595</td>\n",
              "      <td>Skylit Midtown Castle</td>\n",
              "      <td>2845</td>\n",
              "      <td>Jennifer</td>\n",
              "      <td>Manhattan</td>\n",
              "      <td>Midtown</td>\n",
              "      <td>40.75362</td>\n",
              "      <td>-73.98377</td>\n",
              "      <td>Entire home/apt</td>\n",
              "      <td>225</td>\n",
              "      <td>1</td>\n",
              "      <td>45</td>\n",
              "      <td>2019-05-21</td>\n",
              "      <td>0.38</td>\n",
              "      <td>2</td>\n",
              "      <td>355</td>\n",
              "    </tr>\n",
              "    <tr>\n",
              "      <th>2</th>\n",
              "      <td>3647</td>\n",
              "      <td>THE VILLAGE OF HARLEM....NEW YORK !</td>\n",
              "      <td>4632</td>\n",
              "      <td>Elisabeth</td>\n",
              "      <td>Manhattan</td>\n",
              "      <td>Harlem</td>\n",
              "      <td>40.80902</td>\n",
              "      <td>-73.94190</td>\n",
              "      <td>Private room</td>\n",
              "      <td>150</td>\n",
              "      <td>3</td>\n",
              "      <td>0</td>\n",
              "      <td>NaN</td>\n",
              "      <td>NaN</td>\n",
              "      <td>1</td>\n",
              "      <td>365</td>\n",
              "    </tr>\n",
              "    <tr>\n",
              "      <th>3</th>\n",
              "      <td>3831</td>\n",
              "      <td>Cozy Entire Floor of Brownstone</td>\n",
              "      <td>4869</td>\n",
              "      <td>LisaRoxanne</td>\n",
              "      <td>Brooklyn</td>\n",
              "      <td>Clinton Hill</td>\n",
              "      <td>40.68514</td>\n",
              "      <td>-73.95976</td>\n",
              "      <td>Entire home/apt</td>\n",
              "      <td>89</td>\n",
              "      <td>1</td>\n",
              "      <td>270</td>\n",
              "      <td>2019-07-05</td>\n",
              "      <td>4.64</td>\n",
              "      <td>1</td>\n",
              "      <td>194</td>\n",
              "    </tr>\n",
              "    <tr>\n",
              "      <th>4</th>\n",
              "      <td>5022</td>\n",
              "      <td>Entire Apt: Spacious Studio/Loft by central park</td>\n",
              "      <td>7192</td>\n",
              "      <td>Laura</td>\n",
              "      <td>Manhattan</td>\n",
              "      <td>East Harlem</td>\n",
              "      <td>40.79851</td>\n",
              "      <td>-73.94399</td>\n",
              "      <td>Entire home/apt</td>\n",
              "      <td>80</td>\n",
              "      <td>10</td>\n",
              "      <td>9</td>\n",
              "      <td>2018-11-19</td>\n",
              "      <td>0.10</td>\n",
              "      <td>1</td>\n",
              "      <td>0</td>\n",
              "    </tr>\n",
              "  </tbody>\n",
              "</table>\n",
              "</div>"
            ],
            "text/plain": [
              "     id  ... availability_365\n",
              "0  2539  ...              365\n",
              "1  2595  ...              355\n",
              "2  3647  ...              365\n",
              "3  3831  ...              194\n",
              "4  5022  ...                0\n",
              "\n",
              "[5 rows x 16 columns]"
            ]
          },
          "metadata": {},
          "execution_count": 543
        }
      ]
    },
    {
      "cell_type": "code",
      "metadata": {
        "colab": {
          "base_uri": "https://localhost:8080/",
          "height": 414
        },
        "id": "Z2BCOhUHY1xB",
        "outputId": "2d225841-396f-4008-c16e-e7aa412e7e1c"
      },
      "source": [
        "# Del some columns\n",
        "base = [\n",
        "  'latitude',\n",
        "  'longitude',\n",
        "  'price',\n",
        "  'minimum_nights',\n",
        "  'number_of_reviews',\n",
        "  'reviews_per_month',\n",
        "  'calculated_host_listings_count',\n",
        "  'availability_365'\n",
        "]\n",
        "\n",
        "df = df[base]\n",
        "df"
      ],
      "execution_count": 544,
      "outputs": [
        {
          "output_type": "execute_result",
          "data": {
            "text/html": [
              "<div>\n",
              "<style scoped>\n",
              "    .dataframe tbody tr th:only-of-type {\n",
              "        vertical-align: middle;\n",
              "    }\n",
              "\n",
              "    .dataframe tbody tr th {\n",
              "        vertical-align: top;\n",
              "    }\n",
              "\n",
              "    .dataframe thead th {\n",
              "        text-align: right;\n",
              "    }\n",
              "</style>\n",
              "<table border=\"1\" class=\"dataframe\">\n",
              "  <thead>\n",
              "    <tr style=\"text-align: right;\">\n",
              "      <th></th>\n",
              "      <th>latitude</th>\n",
              "      <th>longitude</th>\n",
              "      <th>price</th>\n",
              "      <th>minimum_nights</th>\n",
              "      <th>number_of_reviews</th>\n",
              "      <th>reviews_per_month</th>\n",
              "      <th>calculated_host_listings_count</th>\n",
              "      <th>availability_365</th>\n",
              "    </tr>\n",
              "  </thead>\n",
              "  <tbody>\n",
              "    <tr>\n",
              "      <th>0</th>\n",
              "      <td>40.64749</td>\n",
              "      <td>-73.97237</td>\n",
              "      <td>149</td>\n",
              "      <td>1</td>\n",
              "      <td>9</td>\n",
              "      <td>0.21</td>\n",
              "      <td>6</td>\n",
              "      <td>365</td>\n",
              "    </tr>\n",
              "    <tr>\n",
              "      <th>1</th>\n",
              "      <td>40.75362</td>\n",
              "      <td>-73.98377</td>\n",
              "      <td>225</td>\n",
              "      <td>1</td>\n",
              "      <td>45</td>\n",
              "      <td>0.38</td>\n",
              "      <td>2</td>\n",
              "      <td>355</td>\n",
              "    </tr>\n",
              "    <tr>\n",
              "      <th>2</th>\n",
              "      <td>40.80902</td>\n",
              "      <td>-73.94190</td>\n",
              "      <td>150</td>\n",
              "      <td>3</td>\n",
              "      <td>0</td>\n",
              "      <td>NaN</td>\n",
              "      <td>1</td>\n",
              "      <td>365</td>\n",
              "    </tr>\n",
              "    <tr>\n",
              "      <th>3</th>\n",
              "      <td>40.68514</td>\n",
              "      <td>-73.95976</td>\n",
              "      <td>89</td>\n",
              "      <td>1</td>\n",
              "      <td>270</td>\n",
              "      <td>4.64</td>\n",
              "      <td>1</td>\n",
              "      <td>194</td>\n",
              "    </tr>\n",
              "    <tr>\n",
              "      <th>4</th>\n",
              "      <td>40.79851</td>\n",
              "      <td>-73.94399</td>\n",
              "      <td>80</td>\n",
              "      <td>10</td>\n",
              "      <td>9</td>\n",
              "      <td>0.10</td>\n",
              "      <td>1</td>\n",
              "      <td>0</td>\n",
              "    </tr>\n",
              "    <tr>\n",
              "      <th>...</th>\n",
              "      <td>...</td>\n",
              "      <td>...</td>\n",
              "      <td>...</td>\n",
              "      <td>...</td>\n",
              "      <td>...</td>\n",
              "      <td>...</td>\n",
              "      <td>...</td>\n",
              "      <td>...</td>\n",
              "    </tr>\n",
              "    <tr>\n",
              "      <th>48890</th>\n",
              "      <td>40.67853</td>\n",
              "      <td>-73.94995</td>\n",
              "      <td>70</td>\n",
              "      <td>2</td>\n",
              "      <td>0</td>\n",
              "      <td>NaN</td>\n",
              "      <td>2</td>\n",
              "      <td>9</td>\n",
              "    </tr>\n",
              "    <tr>\n",
              "      <th>48891</th>\n",
              "      <td>40.70184</td>\n",
              "      <td>-73.93317</td>\n",
              "      <td>40</td>\n",
              "      <td>4</td>\n",
              "      <td>0</td>\n",
              "      <td>NaN</td>\n",
              "      <td>2</td>\n",
              "      <td>36</td>\n",
              "    </tr>\n",
              "    <tr>\n",
              "      <th>48892</th>\n",
              "      <td>40.81475</td>\n",
              "      <td>-73.94867</td>\n",
              "      <td>115</td>\n",
              "      <td>10</td>\n",
              "      <td>0</td>\n",
              "      <td>NaN</td>\n",
              "      <td>1</td>\n",
              "      <td>27</td>\n",
              "    </tr>\n",
              "    <tr>\n",
              "      <th>48893</th>\n",
              "      <td>40.75751</td>\n",
              "      <td>-73.99112</td>\n",
              "      <td>55</td>\n",
              "      <td>1</td>\n",
              "      <td>0</td>\n",
              "      <td>NaN</td>\n",
              "      <td>6</td>\n",
              "      <td>2</td>\n",
              "    </tr>\n",
              "    <tr>\n",
              "      <th>48894</th>\n",
              "      <td>40.76404</td>\n",
              "      <td>-73.98933</td>\n",
              "      <td>90</td>\n",
              "      <td>7</td>\n",
              "      <td>0</td>\n",
              "      <td>NaN</td>\n",
              "      <td>1</td>\n",
              "      <td>23</td>\n",
              "    </tr>\n",
              "  </tbody>\n",
              "</table>\n",
              "<p>48895 rows × 8 columns</p>\n",
              "</div>"
            ],
            "text/plain": [
              "       latitude  longitude  ...  calculated_host_listings_count  availability_365\n",
              "0      40.64749  -73.97237  ...                               6               365\n",
              "1      40.75362  -73.98377  ...                               2               355\n",
              "2      40.80902  -73.94190  ...                               1               365\n",
              "3      40.68514  -73.95976  ...                               1               194\n",
              "4      40.79851  -73.94399  ...                               1                 0\n",
              "...         ...        ...  ...                             ...               ...\n",
              "48890  40.67853  -73.94995  ...                               2                 9\n",
              "48891  40.70184  -73.93317  ...                               2                36\n",
              "48892  40.81475  -73.94867  ...                               1                27\n",
              "48893  40.75751  -73.99112  ...                               6                 2\n",
              "48894  40.76404  -73.98933  ...                               1                23\n",
              "\n",
              "[48895 rows x 8 columns]"
            ]
          },
          "metadata": {},
          "execution_count": 544
        }
      ]
    },
    {
      "cell_type": "code",
      "metadata": {
        "colab": {
          "base_uri": "https://localhost:8080/",
          "height": 202
        },
        "id": "yw07XGYRYRt7",
        "outputId": "5441906c-14db-48c7-fd9c-8f8965c60030"
      },
      "source": [
        "# Cleaning column names\n",
        "df.columns = df.columns.str.lower().str.replace(' ', '_')\n",
        "df.head()"
      ],
      "execution_count": 545,
      "outputs": [
        {
          "output_type": "execute_result",
          "data": {
            "text/html": [
              "<div>\n",
              "<style scoped>\n",
              "    .dataframe tbody tr th:only-of-type {\n",
              "        vertical-align: middle;\n",
              "    }\n",
              "\n",
              "    .dataframe tbody tr th {\n",
              "        vertical-align: top;\n",
              "    }\n",
              "\n",
              "    .dataframe thead th {\n",
              "        text-align: right;\n",
              "    }\n",
              "</style>\n",
              "<table border=\"1\" class=\"dataframe\">\n",
              "  <thead>\n",
              "    <tr style=\"text-align: right;\">\n",
              "      <th></th>\n",
              "      <th>latitude</th>\n",
              "      <th>longitude</th>\n",
              "      <th>price</th>\n",
              "      <th>minimum_nights</th>\n",
              "      <th>number_of_reviews</th>\n",
              "      <th>reviews_per_month</th>\n",
              "      <th>calculated_host_listings_count</th>\n",
              "      <th>availability_365</th>\n",
              "    </tr>\n",
              "  </thead>\n",
              "  <tbody>\n",
              "    <tr>\n",
              "      <th>0</th>\n",
              "      <td>40.64749</td>\n",
              "      <td>-73.97237</td>\n",
              "      <td>149</td>\n",
              "      <td>1</td>\n",
              "      <td>9</td>\n",
              "      <td>0.21</td>\n",
              "      <td>6</td>\n",
              "      <td>365</td>\n",
              "    </tr>\n",
              "    <tr>\n",
              "      <th>1</th>\n",
              "      <td>40.75362</td>\n",
              "      <td>-73.98377</td>\n",
              "      <td>225</td>\n",
              "      <td>1</td>\n",
              "      <td>45</td>\n",
              "      <td>0.38</td>\n",
              "      <td>2</td>\n",
              "      <td>355</td>\n",
              "    </tr>\n",
              "    <tr>\n",
              "      <th>2</th>\n",
              "      <td>40.80902</td>\n",
              "      <td>-73.94190</td>\n",
              "      <td>150</td>\n",
              "      <td>3</td>\n",
              "      <td>0</td>\n",
              "      <td>NaN</td>\n",
              "      <td>1</td>\n",
              "      <td>365</td>\n",
              "    </tr>\n",
              "    <tr>\n",
              "      <th>3</th>\n",
              "      <td>40.68514</td>\n",
              "      <td>-73.95976</td>\n",
              "      <td>89</td>\n",
              "      <td>1</td>\n",
              "      <td>270</td>\n",
              "      <td>4.64</td>\n",
              "      <td>1</td>\n",
              "      <td>194</td>\n",
              "    </tr>\n",
              "    <tr>\n",
              "      <th>4</th>\n",
              "      <td>40.79851</td>\n",
              "      <td>-73.94399</td>\n",
              "      <td>80</td>\n",
              "      <td>10</td>\n",
              "      <td>9</td>\n",
              "      <td>0.10</td>\n",
              "      <td>1</td>\n",
              "      <td>0</td>\n",
              "    </tr>\n",
              "  </tbody>\n",
              "</table>\n",
              "</div>"
            ],
            "text/plain": [
              "   latitude  longitude  ...  calculated_host_listings_count  availability_365\n",
              "0  40.64749  -73.97237  ...                               6               365\n",
              "1  40.75362  -73.98377  ...                               2               355\n",
              "2  40.80902  -73.94190  ...                               1               365\n",
              "3  40.68514  -73.95976  ...                               1               194\n",
              "4  40.79851  -73.94399  ...                               1                 0\n",
              "\n",
              "[5 rows x 8 columns]"
            ]
          },
          "metadata": {},
          "execution_count": 545
        }
      ]
    },
    {
      "cell_type": "code",
      "metadata": {
        "colab": {
          "base_uri": "https://localhost:8080/"
        },
        "id": "Xb236SStYf4M",
        "outputId": "037a84e9-099b-4b18-d822-44e8c530dfc3"
      },
      "source": [
        "df.dtypes\n",
        "df.dtypes == 'object'"
      ],
      "execution_count": 546,
      "outputs": [
        {
          "output_type": "execute_result",
          "data": {
            "text/plain": [
              "latitude                          False\n",
              "longitude                         False\n",
              "price                             False\n",
              "minimum_nights                    False\n",
              "number_of_reviews                 False\n",
              "reviews_per_month                 False\n",
              "calculated_host_listings_count    False\n",
              "availability_365                  False\n",
              "dtype: bool"
            ]
          },
          "metadata": {},
          "execution_count": 546
        }
      ]
    },
    {
      "cell_type": "markdown",
      "metadata": {
        "id": "fsvzqpyAnD5C"
      },
      "source": [
        "## Question 1"
      ]
    },
    {
      "cell_type": "code",
      "metadata": {
        "colab": {
          "base_uri": "https://localhost:8080/"
        },
        "id": "ECUQsRWPaiF-",
        "outputId": "f456fc59-83e6-45eb-d8cd-b07802830d88"
      },
      "source": [
        "df.isnull().sum()\n",
        "# reviews_per_month has 10052 missing values"
      ],
      "execution_count": 547,
      "outputs": [
        {
          "output_type": "execute_result",
          "data": {
            "text/plain": [
              "latitude                              0\n",
              "longitude                             0\n",
              "price                                 0\n",
              "minimum_nights                        0\n",
              "number_of_reviews                     0\n",
              "reviews_per_month                 10052\n",
              "calculated_host_listings_count        0\n",
              "availability_365                      0\n",
              "dtype: int64"
            ]
          },
          "metadata": {},
          "execution_count": 547
        }
      ]
    },
    {
      "cell_type": "markdown",
      "metadata": {
        "id": "AXU1FV0JnNNn"
      },
      "source": [
        "## Question 2"
      ]
    },
    {
      "cell_type": "code",
      "metadata": {
        "colab": {
          "base_uri": "https://localhost:8080/"
        },
        "id": "IHIJlE9taxZ0",
        "outputId": "5478028b-7857-4881-eedb-e3ddd7fa7c56"
      },
      "source": [
        "df['minimum_nights'].median()"
      ],
      "execution_count": 548,
      "outputs": [
        {
          "output_type": "execute_result",
          "data": {
            "text/plain": [
              "3.0"
            ]
          },
          "metadata": {},
          "execution_count": 548
        }
      ]
    },
    {
      "cell_type": "markdown",
      "metadata": {
        "id": "w8KP6bZNnaQC"
      },
      "source": [
        "## "
      ]
    },
    {
      "cell_type": "code",
      "metadata": {
        "colab": {
          "base_uri": "https://localhost:8080/"
        },
        "id": "ALn9oODKa9aH",
        "outputId": "563277a9-9b29-478f-bfdc-908805dd2eff"
      },
      "source": [
        "min_reviews_per_month = df['reviews_per_month'].min()\n",
        "max_reviews_per_month = df['reviews_per_month'].max()\n",
        "mean_reviews_per_month = df['reviews_per_month'].mean()\n",
        "median_reviews_per_month = df['reviews_per_month'].median()\n",
        "\n",
        "min_reviews_per_month, max_reviews_per_month, mean_reviews_per_month, median_reviews_per_month"
      ],
      "execution_count": 549,
      "outputs": [
        {
          "output_type": "execute_result",
          "data": {
            "text/plain": [
              "(0.01, 58.5, 1.3732214298586884, 0.72)"
            ]
          },
          "metadata": {},
          "execution_count": 549
        }
      ]
    },
    {
      "cell_type": "code",
      "metadata": {
        "colab": {
          "base_uri": "https://localhost:8080/",
          "height": 296
        },
        "id": "Q8fn2q14kQWJ",
        "outputId": "6d31da75-04f2-4afd-a868-8ae36e7a1451"
      },
      "source": [
        "import matplotlib as plt\n",
        "import seaborn as sns\n",
        "\n",
        "%matplotlib inline\n",
        "\n",
        "# show distribution of data\n",
        "\n",
        "sns.histplot(df.price, bins=50)"
      ],
      "execution_count": 550,
      "outputs": [
        {
          "output_type": "execute_result",
          "data": {
            "text/plain": [
              "<matplotlib.axes._subplots.AxesSubplot at 0x7f9569127dd0>"
            ]
          },
          "metadata": {},
          "execution_count": 550
        },
        {
          "output_type": "display_data",
          "data": {
            "image/png": "[encoded data removed]",
            "text/plain": [
              "<Figure size 432x288 with 1 Axes>"
            ]
          },
          "metadata": {
            "needs_background": "light"
          }
        }
      ]
    },
    {
      "cell_type": "code",
      "metadata": {
        "colab": {
          "base_uri": "https://localhost:8080/"
        },
        "id": "t5sE-WO3kW6y",
        "outputId": "67d79c5a-897e-4582-e0b0-0cf78e15cd88"
      },
      "source": [
        "min_price = df['price'].min()\n",
        "max_price = df['price'].max()\n",
        "mean_price = df['price'].mean()\n",
        "median_price = df['price'].median()\n",
        "\n",
        "min_price, max_price, mean_price, median_price"
      ],
      "execution_count": 551,
      "outputs": [
        {
          "output_type": "execute_result",
          "data": {
            "text/plain": [
              "(0, 10000, 152.7206871868289, 106.0)"
            ]
          },
          "metadata": {},
          "execution_count": 551
        }
      ]
    },
    {
      "cell_type": "code",
      "metadata": {
        "colab": {
          "base_uri": "https://localhost:8080/",
          "height": 296
        },
        "id": "hyQu4oqSkgss",
        "outputId": "5f8123ba-788b-4338-d9cb-0db77f23b111"
      },
      "source": [
        "sns.histplot(df.price[df.price < 500], bins=50)"
      ],
      "execution_count": 552,
      "outputs": [
        {
          "output_type": "execute_result",
          "data": {
            "text/plain": [
              "<matplotlib.axes._subplots.AxesSubplot at 0x7f95690a2490>"
            ]
          },
          "metadata": {},
          "execution_count": 552
        },
        {
          "output_type": "display_data",
          "data": {
            "image/png": "[encoded data removed]",
            "text/plain": [
              "<Figure size 432x288 with 1 Axes>"
            ]
          },
          "metadata": {
            "needs_background": "light"
          }
        }
      ]
    },
    {
      "cell_type": "code",
      "metadata": {
        "colab": {
          "base_uri": "https://localhost:8080/",
          "height": 296
        },
        "id": "TL2mrO5Xk1Uu",
        "outputId": "6f6cf8cf-fc1b-41be-b585-6e22b969c9d7"
      },
      "source": [
        "# Apply logarithn to the prices\n",
        "\n",
        "price_logs = np.log1p(df.price)\n",
        "sns.histplot(price_logs, bins=50)"
      ],
      "execution_count": 553,
      "outputs": [
        {
          "output_type": "execute_result",
          "data": {
            "text/plain": [
              "<matplotlib.axes._subplots.AxesSubplot at 0x7f9568f33650>"
            ]
          },
          "metadata": {},
          "execution_count": 553
        },
        {
          "output_type": "display_data",
          "data": {
            "image/png": "[encoded data removed]",
            "text/plain": [
              "<Figure size 432x288 with 1 Axes>"
            ]
          },
          "metadata": {
            "needs_background": "light"
          }
        }
      ]
    },
    {
      "cell_type": "code",
      "metadata": {
        "id": "qkIzhxlpdW_b"
      },
      "source": [
        "# Fill with mean\n",
        "# df_fill = df['reviews_per_month'].fillna(0)\n",
        "# df['reviews_per_month'].mean()"
      ],
      "execution_count": 554,
      "outputs": []
    },
    {
      "cell_type": "code",
      "metadata": {
        "colab": {
          "base_uri": "https://localhost:8080/"
        },
        "id": "gzqzUfOdfKrl",
        "outputId": "965468e4-18bb-4707-b997-5e9cd8498ab8"
      },
      "source": [
        "# Split data in Train, Validation and Test\n",
        "n = len(df)\n",
        "\n",
        "n_val = int(n * 0.2)\n",
        "n_test = int(n * 0.2)\n",
        "\n",
        "# \n",
        "n_train = n - n_val - n_test\n",
        "n_train, n_val, n_test, n_train + n_val + n_test"
      ],
      "execution_count": 555,
      "outputs": [
        {
          "output_type": "execute_result",
          "data": {
            "text/plain": [
              "(29337, 9779, 9779, 48895)"
            ]
          },
          "metadata": {},
          "execution_count": 555
        }
      ]
    },
    {
      "cell_type": "code",
      "metadata": {
        "colab": {
          "base_uri": "https://localhost:8080/"
        },
        "id": "c-nB-cjPftDp",
        "outputId": "317606b4-ed36-45c8-f46f-bc321474317c"
      },
      "source": [
        "idx = np.arange(n)\n",
        "idx"
      ],
      "execution_count": 556,
      "outputs": [
        {
          "output_type": "execute_result",
          "data": {
            "text/plain": [
              "array([    0,     1,     2, ..., 48892, 48893, 48894])"
            ]
          },
          "metadata": {},
          "execution_count": 556
        }
      ]
    },
    {
      "cell_type": "code",
      "metadata": {
        "colab": {
          "base_uri": "https://localhost:8080/"
        },
        "id": "cZ-frsNvfxCo",
        "outputId": "e68f24d0-8bcf-44f2-a8fb-03cb9e3b8c1d"
      },
      "source": [
        "np.random.seed(42)\n",
        "np.random.shuffle(idx)\n",
        "idx"
      ],
      "execution_count": 557,
      "outputs": [
        {
          "output_type": "execute_result",
          "data": {
            "text/plain": [
              "array([  879, 44383, 15394, ..., 38158,   860, 15795])"
            ]
          },
          "metadata": {},
          "execution_count": 557
        }
      ]
    },
    {
      "cell_type": "code",
      "metadata": {
        "colab": {
          "base_uri": "https://localhost:8080/",
          "height": 414
        },
        "id": "JnBjwot_f24y",
        "outputId": "b8a2c4aa-9eb7-4454-c633-a06357059840"
      },
      "source": [
        "df_train = df.iloc[idx[:n_train]]\n",
        "df_val = df.iloc[idx[n_train:n_train+n_val]]\n",
        "df_test = df.iloc[idx[n_train+n_val:]]\n",
        "\n",
        "df_train"
      ],
      "execution_count": 558,
      "outputs": [
        {
          "output_type": "execute_result",
          "data": {
            "text/html": [
              "<div>\n",
              "<style scoped>\n",
              "    .dataframe tbody tr th:only-of-type {\n",
              "        vertical-align: middle;\n",
              "    }\n",
              "\n",
              "    .dataframe tbody tr th {\n",
              "        vertical-align: top;\n",
              "    }\n",
              "\n",
              "    .dataframe thead th {\n",
              "        text-align: right;\n",
              "    }\n",
              "</style>\n",
              "<table border=\"1\" class=\"dataframe\">\n",
              "  <thead>\n",
              "    <tr style=\"text-align: right;\">\n",
              "      <th></th>\n",
              "      <th>latitude</th>\n",
              "      <th>longitude</th>\n",
              "      <th>price</th>\n",
              "      <th>minimum_nights</th>\n",
              "      <th>number_of_reviews</th>\n",
              "      <th>reviews_per_month</th>\n",
              "      <th>calculated_host_listings_count</th>\n",
              "      <th>availability_365</th>\n",
              "    </tr>\n",
              "  </thead>\n",
              "  <tbody>\n",
              "    <tr>\n",
              "      <th>879</th>\n",
              "      <td>40.64354</td>\n",
              "      <td>-73.97777</td>\n",
              "      <td>89</td>\n",
              "      <td>3</td>\n",
              "      <td>62</td>\n",
              "      <td>0.71</td>\n",
              "      <td>1</td>\n",
              "      <td>189</td>\n",
              "    </tr>\n",
              "    <tr>\n",
              "      <th>44383</th>\n",
              "      <td>40.70666</td>\n",
              "      <td>-73.90779</td>\n",
              "      <td>30</td>\n",
              "      <td>21</td>\n",
              "      <td>0</td>\n",
              "      <td>NaN</td>\n",
              "      <td>1</td>\n",
              "      <td>73</td>\n",
              "    </tr>\n",
              "    <tr>\n",
              "      <th>15394</th>\n",
              "      <td>40.76116</td>\n",
              "      <td>-73.99016</td>\n",
              "      <td>120</td>\n",
              "      <td>2</td>\n",
              "      <td>17</td>\n",
              "      <td>0.43</td>\n",
              "      <td>1</td>\n",
              "      <td>0</td>\n",
              "    </tr>\n",
              "    <tr>\n",
              "      <th>43230</th>\n",
              "      <td>40.70763</td>\n",
              "      <td>-74.01050</td>\n",
              "      <td>470</td>\n",
              "      <td>2</td>\n",
              "      <td>5</td>\n",
              "      <td>1.88</td>\n",
              "      <td>327</td>\n",
              "      <td>272</td>\n",
              "    </tr>\n",
              "    <tr>\n",
              "      <th>16332</th>\n",
              "      <td>40.79658</td>\n",
              "      <td>-73.93287</td>\n",
              "      <td>199</td>\n",
              "      <td>2</td>\n",
              "      <td>30</td>\n",
              "      <td>0.80</td>\n",
              "      <td>1</td>\n",
              "      <td>30</td>\n",
              "    </tr>\n",
              "    <tr>\n",
              "      <th>...</th>\n",
              "      <td>...</td>\n",
              "      <td>...</td>\n",
              "      <td>...</td>\n",
              "      <td>...</td>\n",
              "      <td>...</td>\n",
              "      <td>...</td>\n",
              "      <td>...</td>\n",
              "      <td>...</td>\n",
              "    </tr>\n",
              "    <tr>\n",
              "      <th>14975</th>\n",
              "      <td>40.71178</td>\n",
              "      <td>-73.95779</td>\n",
              "      <td>95</td>\n",
              "      <td>2</td>\n",
              "      <td>0</td>\n",
              "      <td>NaN</td>\n",
              "      <td>1</td>\n",
              "      <td>0</td>\n",
              "    </tr>\n",
              "    <tr>\n",
              "      <th>14661</th>\n",
              "      <td>40.78638</td>\n",
              "      <td>-73.97004</td>\n",
              "      <td>101</td>\n",
              "      <td>30</td>\n",
              "      <td>10</td>\n",
              "      <td>0.40</td>\n",
              "      <td>1</td>\n",
              "      <td>0</td>\n",
              "    </tr>\n",
              "    <tr>\n",
              "      <th>24515</th>\n",
              "      <td>40.72716</td>\n",
              "      <td>-73.98524</td>\n",
              "      <td>100</td>\n",
              "      <td>3</td>\n",
              "      <td>75</td>\n",
              "      <td>3.12</td>\n",
              "      <td>1</td>\n",
              "      <td>60</td>\n",
              "    </tr>\n",
              "    <tr>\n",
              "      <th>31460</th>\n",
              "      <td>40.79578</td>\n",
              "      <td>-73.94523</td>\n",
              "      <td>68</td>\n",
              "      <td>2</td>\n",
              "      <td>31</td>\n",
              "      <td>2.10</td>\n",
              "      <td>1</td>\n",
              "      <td>265</td>\n",
              "    </tr>\n",
              "    <tr>\n",
              "      <th>29114</th>\n",
              "      <td>40.69671</td>\n",
              "      <td>-73.94896</td>\n",
              "      <td>45</td>\n",
              "      <td>1</td>\n",
              "      <td>1</td>\n",
              "      <td>0.05</td>\n",
              "      <td>1</td>\n",
              "      <td>0</td>\n",
              "    </tr>\n",
              "  </tbody>\n",
              "</table>\n",
              "<p>29337 rows × 8 columns</p>\n",
              "</div>"
            ],
            "text/plain": [
              "       latitude  longitude  ...  calculated_host_listings_count  availability_365\n",
              "879    40.64354  -73.97777  ...                               1               189\n",
              "44383  40.70666  -73.90779  ...                               1                73\n",
              "15394  40.76116  -73.99016  ...                               1                 0\n",
              "43230  40.70763  -74.01050  ...                             327               272\n",
              "16332  40.79658  -73.93287  ...                               1                30\n",
              "...         ...        ...  ...                             ...               ...\n",
              "14975  40.71178  -73.95779  ...                               1                 0\n",
              "14661  40.78638  -73.97004  ...                               1                 0\n",
              "24515  40.72716  -73.98524  ...                               1                60\n",
              "31460  40.79578  -73.94523  ...                               1               265\n",
              "29114  40.69671  -73.94896  ...                               1                 0\n",
              "\n",
              "[29337 rows x 8 columns]"
            ]
          },
          "metadata": {},
          "execution_count": 558
        }
      ]
    },
    {
      "cell_type": "code",
      "metadata": {
        "colab": {
          "base_uri": "https://localhost:8080/"
        },
        "id": "sRzZSZPNf63i",
        "outputId": "cffb5ec6-2ffb-42de-ab23-b6060ef88629"
      },
      "source": [
        "len(df_train), len(df_val), len(df_test)\n",
        "# length is ok"
      ],
      "execution_count": 559,
      "outputs": [
        {
          "output_type": "execute_result",
          "data": {
            "text/plain": [
              "(29337, 9779, 9779)"
            ]
          },
          "metadata": {},
          "execution_count": 559
        }
      ]
    },
    {
      "cell_type": "code",
      "metadata": {
        "colab": {
          "base_uri": "https://localhost:8080/",
          "height": 202
        },
        "id": "ikuWjfI6f9rY",
        "outputId": "1956b629-aa6b-4b74-fc48-c09fbec8a2d2"
      },
      "source": [
        "# reset the indexes\n",
        "df_train = df_train.reset_index(drop=True)\n",
        "df_val = df_val.reset_index(drop=True)\n",
        "df_test = df_test.reset_index(drop=True)\n",
        "\n",
        "df_train.head()"
      ],
      "execution_count": 560,
      "outputs": [
        {
          "output_type": "execute_result",
          "data": {
            "text/html": [
              "<div>\n",
              "<style scoped>\n",
              "    .dataframe tbody tr th:only-of-type {\n",
              "        vertical-align: middle;\n",
              "    }\n",
              "\n",
              "    .dataframe tbody tr th {\n",
              "        vertical-align: top;\n",
              "    }\n",
              "\n",
              "    .dataframe thead th {\n",
              "        text-align: right;\n",
              "    }\n",
              "</style>\n",
              "<table border=\"1\" class=\"dataframe\">\n",
              "  <thead>\n",
              "    <tr style=\"text-align: right;\">\n",
              "      <th></th>\n",
              "      <th>latitude</th>\n",
              "      <th>longitude</th>\n",
              "      <th>price</th>\n",
              "      <th>minimum_nights</th>\n",
              "      <th>number_of_reviews</th>\n",
              "      <th>reviews_per_month</th>\n",
              "      <th>calculated_host_listings_count</th>\n",
              "      <th>availability_365</th>\n",
              "    </tr>\n",
              "  </thead>\n",
              "  <tbody>\n",
              "    <tr>\n",
              "      <th>0</th>\n",
              "      <td>40.64354</td>\n",
              "      <td>-73.97777</td>\n",
              "      <td>89</td>\n",
              "      <td>3</td>\n",
              "      <td>62</td>\n",
              "      <td>0.71</td>\n",
              "      <td>1</td>\n",
              "      <td>189</td>\n",
              "    </tr>\n",
              "    <tr>\n",
              "      <th>1</th>\n",
              "      <td>40.70666</td>\n",
              "      <td>-73.90779</td>\n",
              "      <td>30</td>\n",
              "      <td>21</td>\n",
              "      <td>0</td>\n",
              "      <td>NaN</td>\n",
              "      <td>1</td>\n",
              "      <td>73</td>\n",
              "    </tr>\n",
              "    <tr>\n",
              "      <th>2</th>\n",
              "      <td>40.76116</td>\n",
              "      <td>-73.99016</td>\n",
              "      <td>120</td>\n",
              "      <td>2</td>\n",
              "      <td>17</td>\n",
              "      <td>0.43</td>\n",
              "      <td>1</td>\n",
              "      <td>0</td>\n",
              "    </tr>\n",
              "    <tr>\n",
              "      <th>3</th>\n",
              "      <td>40.70763</td>\n",
              "      <td>-74.01050</td>\n",
              "      <td>470</td>\n",
              "      <td>2</td>\n",
              "      <td>5</td>\n",
              "      <td>1.88</td>\n",
              "      <td>327</td>\n",
              "      <td>272</td>\n",
              "    </tr>\n",
              "    <tr>\n",
              "      <th>4</th>\n",
              "      <td>40.79658</td>\n",
              "      <td>-73.93287</td>\n",
              "      <td>199</td>\n",
              "      <td>2</td>\n",
              "      <td>30</td>\n",
              "      <td>0.80</td>\n",
              "      <td>1</td>\n",
              "      <td>30</td>\n",
              "    </tr>\n",
              "  </tbody>\n",
              "</table>\n",
              "</div>"
            ],
            "text/plain": [
              "   latitude  longitude  ...  calculated_host_listings_count  availability_365\n",
              "0  40.64354  -73.97777  ...                               1               189\n",
              "1  40.70666  -73.90779  ...                               1                73\n",
              "2  40.76116  -73.99016  ...                               1                 0\n",
              "3  40.70763  -74.01050  ...                             327               272\n",
              "4  40.79658  -73.93287  ...                               1                30\n",
              "\n",
              "[5 rows x 8 columns]"
            ]
          },
          "metadata": {},
          "execution_count": 560
        }
      ]
    },
    {
      "cell_type": "code",
      "metadata": {
        "colab": {
          "base_uri": "https://localhost:8080/"
        },
        "id": "QFdFJndAgEpz",
        "outputId": "6710662e-2cb6-41a9-aa3f-6fcc1236868b"
      },
      "source": [
        "y_train = np.log1p(df_train.price.values)\n",
        "y_val = np.log1p(df_val.price.values)\n",
        "y_test = np.log1p(df_test.price.values)\n",
        "\n",
        "y_train, y_val, y_test"
      ],
      "execution_count": 561,
      "outputs": [
        {
          "output_type": "execute_result",
          "data": {
            "text/plain": [
              "(array([4.49980967, 3.4339872 , 4.79579055, ..., 4.61512052, 4.2341065 ,\n",
              "        3.8286414 ]),\n",
              " array([3.93182563, 3.76120012, 3.71357207, ..., 4.61512052, 4.56434819,\n",
              "        4.94875989]),\n",
              " array([3.8918203 , 4.79579055, 5.01727984, ..., 4.87519732, 5.01727984,\n",
              "        4.79579055]))"
            ]
          },
          "metadata": {},
          "execution_count": 561
        }
      ]
    },
    {
      "cell_type": "code",
      "metadata": {
        "colab": {
          "base_uri": "https://localhost:8080/",
          "height": 202
        },
        "id": "7sbbyMNegY-G",
        "outputId": "96cae89d-4ace-44c7-9d52-85cb6558d897"
      },
      "source": [
        "# Delete price from the training process\n",
        "del df_train['price']\n",
        "del df_val['price']\n",
        "del df_test['price']\n",
        "\n",
        "df_train.head()"
      ],
      "execution_count": 562,
      "outputs": [
        {
          "output_type": "execute_result",
          "data": {
            "text/html": [
              "<div>\n",
              "<style scoped>\n",
              "    .dataframe tbody tr th:only-of-type {\n",
              "        vertical-align: middle;\n",
              "    }\n",
              "\n",
              "    .dataframe tbody tr th {\n",
              "        vertical-align: top;\n",
              "    }\n",
              "\n",
              "    .dataframe thead th {\n",
              "        text-align: right;\n",
              "    }\n",
              "</style>\n",
              "<table border=\"1\" class=\"dataframe\">\n",
              "  <thead>\n",
              "    <tr style=\"text-align: right;\">\n",
              "      <th></th>\n",
              "      <th>latitude</th>\n",
              "      <th>longitude</th>\n",
              "      <th>minimum_nights</th>\n",
              "      <th>number_of_reviews</th>\n",
              "      <th>reviews_per_month</th>\n",
              "      <th>calculated_host_listings_count</th>\n",
              "      <th>availability_365</th>\n",
              "    </tr>\n",
              "  </thead>\n",
              "  <tbody>\n",
              "    <tr>\n",
              "      <th>0</th>\n",
              "      <td>40.64354</td>\n",
              "      <td>-73.97777</td>\n",
              "      <td>3</td>\n",
              "      <td>62</td>\n",
              "      <td>0.71</td>\n",
              "      <td>1</td>\n",
              "      <td>189</td>\n",
              "    </tr>\n",
              "    <tr>\n",
              "      <th>1</th>\n",
              "      <td>40.70666</td>\n",
              "      <td>-73.90779</td>\n",
              "      <td>21</td>\n",
              "      <td>0</td>\n",
              "      <td>NaN</td>\n",
              "      <td>1</td>\n",
              "      <td>73</td>\n",
              "    </tr>\n",
              "    <tr>\n",
              "      <th>2</th>\n",
              "      <td>40.76116</td>\n",
              "      <td>-73.99016</td>\n",
              "      <td>2</td>\n",
              "      <td>17</td>\n",
              "      <td>0.43</td>\n",
              "      <td>1</td>\n",
              "      <td>0</td>\n",
              "    </tr>\n",
              "    <tr>\n",
              "      <th>3</th>\n",
              "      <td>40.70763</td>\n",
              "      <td>-74.01050</td>\n",
              "      <td>2</td>\n",
              "      <td>5</td>\n",
              "      <td>1.88</td>\n",
              "      <td>327</td>\n",
              "      <td>272</td>\n",
              "    </tr>\n",
              "    <tr>\n",
              "      <th>4</th>\n",
              "      <td>40.79658</td>\n",
              "      <td>-73.93287</td>\n",
              "      <td>2</td>\n",
              "      <td>30</td>\n",
              "      <td>0.80</td>\n",
              "      <td>1</td>\n",
              "      <td>30</td>\n",
              "    </tr>\n",
              "  </tbody>\n",
              "</table>\n",
              "</div>"
            ],
            "text/plain": [
              "   latitude  longitude  ...  calculated_host_listings_count  availability_365\n",
              "0  40.64354  -73.97777  ...                               1               189\n",
              "1  40.70666  -73.90779  ...                               1                73\n",
              "2  40.76116  -73.99016  ...                               1                 0\n",
              "3  40.70763  -74.01050  ...                             327               272\n",
              "4  40.79658  -73.93287  ...                               1                30\n",
              "\n",
              "[5 rows x 7 columns]"
            ]
          },
          "metadata": {},
          "execution_count": 562
        }
      ]
    },
    {
      "cell_type": "code",
      "metadata": {
        "colab": {
          "base_uri": "https://localhost:8080/"
        },
        "id": "FizVdK62ilvx",
        "outputId": "2d858edc-b310-449d-c7a6-62bd2be3563c"
      },
      "source": [
        "base.remove('price')\n",
        "base"
      ],
      "execution_count": 563,
      "outputs": [
        {
          "output_type": "execute_result",
          "data": {
            "text/plain": [
              "['latitude',\n",
              " 'longitude',\n",
              " 'minimum_nights',\n",
              " 'number_of_reviews',\n",
              " 'reviews_per_month',\n",
              " 'calculated_host_listings_count',\n",
              " 'availability_365']"
            ]
          },
          "metadata": {},
          "execution_count": 563
        }
      ]
    },
    {
      "cell_type": "code",
      "metadata": {
        "id": "Hx2Rs3wYfN5r"
      },
      "source": [
        "def train_linear_regression(X, y):\n",
        "  ones = np.ones(X.shape[0])\n",
        "  X = np.column_stack([ones, X])\n",
        "  XTX = X.T.dot(X)\n",
        "  XTX_inv = np.linalg.inv(XTX)\n",
        "  w_full = XTX_inv.dot(X.T).dot(y)\n",
        "  return w_full[0], w_full[1:]"
      ],
      "execution_count": 564,
      "outputs": []
    },
    {
      "cell_type": "code",
      "metadata": {
        "id": "4fAKPw4hiWnC"
      },
      "source": [
        "def prepare_X(df):\n",
        "  df_num = df[base]\n",
        "  df_num = df_num.fillna(0)\n",
        "  X = df_num.values\n",
        "  return X"
      ],
      "execution_count": 565,
      "outputs": []
    },
    {
      "cell_type": "code",
      "metadata": {
        "id": "UQzIAZU8ld1P"
      },
      "source": [
        "def prepare_X_with_mean(df):\n",
        "  df_num = df[base]\n",
        "  df_num = df_num.fillna(df['reviews_per_month'].mean())\n",
        "  X = df_num.values\n",
        "  return X"
      ],
      "execution_count": 566,
      "outputs": []
    },
    {
      "cell_type": "code",
      "metadata": {
        "id": "LnNwL7aBjEWu"
      },
      "source": [
        "def rmse(y, y_pred):\n",
        "  error = y - y_pred\n",
        "  se = error ** 2\n",
        "  mse = se.mean()\n",
        "  return np.sqrt(mse)"
      ],
      "execution_count": 567,
      "outputs": []
    },
    {
      "cell_type": "code",
      "metadata": {
        "colab": {
          "base_uri": "https://localhost:8080/"
        },
        "id": "j5HtVol9ifrS",
        "outputId": "4ee79d2e-4b46-40a1-ef92-6847b4ac129d"
      },
      "source": [
        "X_train = prepare_X(df_train)\n",
        "X_train"
      ],
      "execution_count": 568,
      "outputs": [
        {
          "output_type": "execute_result",
          "data": {
            "text/plain": [
              "array([[ 4.064354e+01, -7.397777e+01,  3.000000e+00, ...,  7.100000e-01,\n",
              "         1.000000e+00,  1.890000e+02],\n",
              "       [ 4.070666e+01, -7.390779e+01,  2.100000e+01, ...,  0.000000e+00,\n",
              "         1.000000e+00,  7.300000e+01],\n",
              "       [ 4.076116e+01, -7.399016e+01,  2.000000e+00, ...,  4.300000e-01,\n",
              "         1.000000e+00,  0.000000e+00],\n",
              "       ...,\n",
              "       [ 4.072716e+01, -7.398524e+01,  3.000000e+00, ...,  3.120000e+00,\n",
              "         1.000000e+00,  6.000000e+01],\n",
              "       [ 4.079578e+01, -7.394523e+01,  2.000000e+00, ...,  2.100000e+00,\n",
              "         1.000000e+00,  2.650000e+02],\n",
              "       [ 4.069671e+01, -7.394896e+01,  1.000000e+00, ...,  5.000000e-02,\n",
              "         1.000000e+00,  0.000000e+00]])"
            ]
          },
          "metadata": {},
          "execution_count": 568
        }
      ]
    },
    {
      "cell_type": "markdown",
      "metadata": {
        "id": "pfgDQMignV6z"
      },
      "source": [
        "## Question 3"
      ]
    },
    {
      "cell_type": "code",
      "metadata": {
        "colab": {
          "base_uri": "https://localhost:8080/"
        },
        "id": "97FWze1Vg9tH",
        "outputId": "8fc55372-9b72-42ea-88f5-6d6c313711d6"
      },
      "source": [
        "w0, w = train_linear_regression(X_train, y_train)\n",
        "\n",
        "X_val = prepare_X(df_val)\n",
        "y_pred = w0 + X_val.dot(w)\n",
        "\n",
        "score1 = rmse(y_val, y_pred)\n",
        "round(score1, 2)"
      ],
      "execution_count": 569,
      "outputs": [
        {
          "output_type": "execute_result",
          "data": {
            "text/plain": [
              "0.64"
            ]
          },
          "metadata": {},
          "execution_count": 569
        }
      ]
    },
    {
      "cell_type": "code",
      "metadata": {
        "colab": {
          "base_uri": "https://localhost:8080/"
        },
        "id": "hfcqUksllwyt",
        "outputId": "89b05edc-1f01-4408-84d2-f7215fe8ad28"
      },
      "source": [
        "X_val2 = prepare_X_with_mean(df_val)\n",
        "y_pred2 = w0 + X_val2.dot(w)\n",
        "\n",
        "score2 = rmse(y_val, y_pred2)\n",
        "round(score2, 2)"
      ],
      "execution_count": 570,
      "outputs": [
        {
          "output_type": "execute_result",
          "data": {
            "text/plain": [
              "0.64"
            ]
          },
          "metadata": {},
          "execution_count": 570
        }
      ]
    },
    {
      "cell_type": "code",
      "metadata": {
        "colab": {
          "base_uri": "https://localhost:8080/",
          "height": 282
        },
        "id": "IW-DXSAIjWWj",
        "outputId": "a5baea17-cab5-4aa3-9058-de844e204699"
      },
      "source": [
        "import matplotlib as plt\n",
        "import seaborn as sns\n",
        "\n",
        "%matplotlib inline\n",
        "\n",
        "sns.histplot(y_pred, color='red', alpha=0.5, bins=50)\n",
        "sns.histplot(y_train, color='blue', alpha=0.5, bins=50)"
      ],
      "execution_count": 571,
      "outputs": [
        {
          "output_type": "execute_result",
          "data": {
            "text/plain": [
              "<matplotlib.axes._subplots.AxesSubplot at 0x7f9568e59dd0>"
            ]
          },
          "metadata": {},
          "execution_count": 571
        },
        {
          "output_type": "display_data",
          "data": {
            "image/png": "[encoded data removed]",
            "text/plain": [
              "<Figure size 432x288 with 1 Axes>"
            ]
          },
          "metadata": {
            "needs_background": "light"
          }
        }
      ]
    },
    {
      "cell_type": "code",
      "metadata": {
        "id": "lAaj5gGMjjYH"
      },
      "source": [
        "def train_linear_regression_reg(X, y, r=0.001):\n",
        "  ones = np.ones(X.shape[0])\n",
        "  X = np.column_stack([ones, X])\n",
        "\n",
        "  XTX = X.T.dot(X)\n",
        "  XTX = XTX + r * np.eye(XTX.shape[0])\n",
        "\n",
        "  XTX_inv = np.linalg.inv(XTX)\n",
        "  w_full = XTX_inv.dot(X.T).dot(y)\n",
        "\n",
        "  return w_full[0], w_full[1:]"
      ],
      "execution_count": 572,
      "outputs": []
    },
    {
      "cell_type": "markdown",
      "metadata": {
        "id": "-wsta6GEng9f"
      },
      "source": [
        "## Question 4"
      ]
    },
    {
      "cell_type": "code",
      "metadata": {
        "colab": {
          "base_uri": "https://localhost:8080/"
        },
        "id": "y83Gt8w7jmOT",
        "outputId": "67bea906-2f8f-47eb-d93d-f2cd3768847a"
      },
      "source": [
        "for r in [0.0, 0.00001, 0.0001, 0.001, 0.01, 0.1, 1, 10]:\n",
        "  X_train = prepare_X(df_train)\n",
        "  w0, w = train_linear_regression_reg(X_train, y_train, r=0.01)\n",
        "\n",
        "  X_val = prepare_X(df_val)\n",
        "  y_pred = w0 + X_val.dot(w)\n",
        "\n",
        "  score = rmse(y_val, y_pred)\n",
        "\n",
        "  print (r, w0, round(score, 2))"
      ],
      "execution_count": 573,
      "outputs": [
        {
          "output_type": "stream",
          "name": "stdout",
          "text": [
            "0.0 -191.7838407751772 0.66\n",
            "1e-05 -191.7838407751772 0.66\n",
            "0.0001 -191.7838407751772 0.66\n",
            "0.001 -191.7838407751772 0.66\n",
            "0.01 -191.7838407751772 0.66\n",
            "0.1 -191.7838407751772 0.66\n",
            "1 -191.7838407751772 0.66\n",
            "10 -191.7838407751772 0.66\n"
          ]
        }
      ]
    },
    {
      "cell_type": "markdown",
      "metadata": {
        "id": "8PYdBphcni5h"
      },
      "source": [
        "## Question 5"
      ]
    },
    {
      "cell_type": "code",
      "metadata": {
        "id": "ksaNggKOnkIS"
      },
      "source": [
        "def shuffle_data(seed):\n",
        "  idx_s = np.arange(n)\n",
        "  np.random.seed(seed)\n",
        "  np.random.shuffle(idx_s)\n",
        "\n",
        "  df_train_s = df.iloc[idx_s[:n_train]]\n",
        "  df_val_s = df.iloc[idx_s[n_train:n_train+n_val]]\n",
        "  df_test_s = df.iloc[idx_s[n_train+n_val:]]\n",
        "\n",
        "  y_train_s = np.log1p(df_train_s.price.values)\n",
        "  y_val_s = np.log1p(df_val_s.price.values)\n",
        "  y_test_s = np.log1p(df_test_s.price.values)\n",
        "\n",
        "  return df_train_s, df_val_s, df_test_s, y_train_s, y_val_s, y_test_s"
      ],
      "execution_count": 574,
      "outputs": []
    },
    {
      "cell_type": "code",
      "metadata": {
        "colab": {
          "base_uri": "https://localhost:8080/"
        },
        "id": "JdVYPbiun40T",
        "outputId": "13dcf130-78db-47b1-c7ba-a3f246e1591c"
      },
      "source": [
        "scores = []\n",
        "\n",
        "for r in [0, 1, 2, 3, 4, 5, 6, 7, 8, 9]:\n",
        "  df_train_s, df_val_s, df_test_s, y_train_s, y_val_s, y_test_s = shuffle_data(r)\n",
        "\n",
        "  X_train = prepare_X(df_train_s)\n",
        "  w0, w = train_linear_regression_reg(X_train, y_train_s, 0.01)\n",
        "\n",
        "  X_val = prepare_X(df_val_s)\n",
        "  y_pred = w0 + X_val.dot(w)\n",
        "\n",
        "  score = rmse(y_val_s, y_pred)\n",
        "  scores.append(score)\n",
        "\n",
        "# STD of RMSE scores for different seeds\n",
        "std = np.std(scores)\n",
        "round(std, 3)"
      ],
      "execution_count": 575,
      "outputs": [
        {
          "output_type": "execute_result",
          "data": {
            "text/plain": [
              "0.008"
            ]
          },
          "metadata": {},
          "execution_count": 575
        }
      ]
    },
    {
      "cell_type": "markdown",
      "metadata": {
        "id": "6IkytVmbq0g4"
      },
      "source": [
        "## Question 6"
      ]
    },
    {
      "cell_type": "code",
      "metadata": {
        "id": "JkRMkhDBqwRF"
      },
      "source": [
        "df_train_final, df_val_final, df_test_final, y_train_final, y_val_final, y_test_final = shuffle_data(9)"
      ],
      "execution_count": 576,
      "outputs": []
    },
    {
      "cell_type": "code",
      "metadata": {
        "colab": {
          "base_uri": "https://localhost:8080/"
        },
        "id": "0Qqck-bUrzAB",
        "outputId": "2ccde19b-940e-4c92-d88a-f53b77fca7f1"
      },
      "source": [
        "df_full_train = pd.concat([df_train_final, df_val_final])\n",
        "df_full_train.reset_index(drop=True)\n",
        "\n",
        "y_full_train = np.concatenate([y_train_final, y_val_final])\n",
        "y_full_train"
      ],
      "execution_count": 577,
      "outputs": [
        {
          "output_type": "execute_result",
          "data": {
            "text/plain": [
              "array([4.33073334, 4.24849524, 5.19295685, ..., 4.94875989, 5.37527841,\n",
              "       4.18965474])"
            ]
          },
          "metadata": {},
          "execution_count": 577
        }
      ]
    },
    {
      "cell_type": "code",
      "metadata": {
        "colab": {
          "base_uri": "https://localhost:8080/"
        },
        "id": "EEAMryT0rWhL",
        "outputId": "d40f4012-157b-415b-f29d-07c99fed8f40"
      },
      "source": [
        "X_full_train = prepare_X(df_full_train)\n",
        "w0, w = train_linear_regression_reg(X_full_train, y_full_train, 0.001)\n",
        "\n",
        "X_test = prepare_X(df_test_final)\n",
        "y_pred = w0 + X_test.dot(w)\n",
        "\n",
        "score = rmse(y_test_final, y_pred)\n",
        "round(score, 2)"
      ],
      "execution_count": 578,
      "outputs": [
        {
          "output_type": "execute_result",
          "data": {
            "text/plain": [
              "0.65"
            ]
          },
          "metadata": {},
          "execution_count": 578
        }
      ]
    },
    {
      "cell_type": "markdown",
      "metadata": {
        "id": "_PXzFwx9tn_-"
      },
      "source": [
        "-------------------------------------------------------------"
      ]
    },
    {
      "cell_type": "markdown",
      "metadata": {
        "id": "vDLkhCrutsTt"
      },
      "source": [
        "## Test"
      ]
    },
    {
      "cell_type": "code",
      "metadata": {
        "colab": {
          "base_uri": "https://localhost:8080/"
        },
        "id": "3DqZXY8OtqqL",
        "outputId": "ccce7e10-9132-4b64-fa82-a11db2cbc668"
      },
      "source": [
        "apartment_id = 200\n",
        "\n",
        "apartment = df_test_final.iloc[apartment_id].to_dict()\n",
        "apartment"
      ],
      "execution_count": 579,
      "outputs": [
        {
          "output_type": "execute_result",
          "data": {
            "text/plain": [
              "{'availability_365': 125.0,\n",
              " 'calculated_host_listings_count': 8.0,\n",
              " 'latitude': 40.72074,\n",
              " 'longitude': -73.9432,\n",
              " 'minimum_nights': 30.0,\n",
              " 'number_of_reviews': 4.0,\n",
              " 'price': 90.0,\n",
              " 'reviews_per_month': 0.19}"
            ]
          },
          "metadata": {},
          "execution_count": 579
        }
      ]
    },
    {
      "cell_type": "code",
      "metadata": {
        "id": "6ZK47nASumbv"
      },
      "source": [
        "df_small = pd.DataFrame([apartment])\n",
        "X_small = prepare_X(df_small)"
      ],
      "execution_count": 580,
      "outputs": []
    },
    {
      "cell_type": "code",
      "metadata": {
        "colab": {
          "base_uri": "https://localhost:8080/"
        },
        "id": "ETbNpCyBurLC",
        "outputId": "9fd744d1-83d9-4b24-a88f-c8c9b00a1634"
      },
      "source": [
        "y_pred = w0 + X_small.dot(w)\n",
        "y_pred = y_pred[0]\n",
        "# Il risultato è il logaritmo del prezzo\n",
        "\n",
        "np.expm1(y_pred), np.expm1(y_test_final[apartment_id])"
      ],
      "execution_count": 581,
      "outputs": [
        {
          "output_type": "execute_result",
          "data": {
            "text/plain": [
              "(108.17643023720177, 89.99999999999997)"
            ]
          },
          "metadata": {},
          "execution_count": 581
        }
      ]
    }
  ]
}